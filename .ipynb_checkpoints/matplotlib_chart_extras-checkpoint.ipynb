{
 "cells": [
  {
   "cell_type": "code",
   "execution_count": null,
   "id": "49dec1cc",
   "metadata": {},
   "outputs": [],
   "source": [
    "# Starting steps to working with matplotlib charts\n",
    "%matplotlib inline"
   ]
  },
  {
   "cell_type": "code",
   "execution_count": null,
   "id": "f2d94376",
   "metadata": {},
   "outputs": [],
   "source": [
    "# Import dependencies.\n",
    "import matplotlib.pyplot as plt\n",
    "import statistics"
   ]
  },
  {
   "cell_type": "code",
   "execution_count": null,
   "id": "abbbcef2",
   "metadata": {},
   "outputs": [],
   "source": [
    "#Set the axis data\n",
    "# Set the x-axis to a list of strings for each month.\n",
    "x_axis = [\"Jan\", \"Feb\", \"Mar\", \"April\", \"May\", \"June\", \"July\", \"Aug\", \"Sept\", \"Oct\", \"Nov\", \"Dec\"]\n",
    "\n",
    "# Set the y-axis to a list of floats as the total fare in US dollars accumulated for each month.\n",
    "y_axis = [10.02, 23.24, 39.20, 35.42, 32.34, 27.04, 43.82, 10.56, 11.85, 27.90, 20.71, 20.09]"
   ]
  },
  {
   "cell_type": "code",
   "execution_count": null,
   "id": "f617c231",
   "metadata": {},
   "outputs": [],
   "source": [
    "# Get the standard deviation of the values in the y-axis.\n",
    "stdev = statistics.stdev(y_axis)\n",
    "stdev"
   ]
  },
  {
   "cell_type": "code",
   "execution_count": null,
   "id": "525e237b",
   "metadata": {},
   "outputs": [],
   "source": [
    "# Add the x-axis, y-axis, and standard deviation to the errorbar function\n",
    "plt.errorbar(x_axis, y_axis, yerr=stdev)"
   ]
  },
  {
   "cell_type": "code",
   "execution_count": null,
   "id": "4330cac2",
   "metadata": {},
   "outputs": [],
   "source": [
    "# Add a \"cap\" to the error bars that's equal to a scalar value\n",
    "# use the capsize= parameter\n",
    "plt.errorbar(x_axis, y_axis, yerr=stdev, capsize=3)"
   ]
  },
  {
   "cell_type": "code",
   "execution_count": null,
   "id": "67712497",
   "metadata": {},
   "outputs": [],
   "source": [
    "# Using the Object Oriented approach\n",
    "fig, ax = plt.subplots()\n",
    "ax.errorbar(x_axis, y_axis, yerr=stdev, capsize=3)\n",
    "plt.show()"
   ]
  },
  {
   "cell_type": "code",
   "execution_count": null,
   "id": "8d86b55b",
   "metadata": {},
   "outputs": [],
   "source": [
    "# Add error bars and caps to a bar chart using MATLAB\n",
    "# Use yerr= and capsize= parameters with plt.bar() function\n",
    "plt.bar(x_axis, y_axis, yerr=stdev, capsize=3)"
   ]
  },
  {
   "cell_type": "code",
   "execution_count": null,
   "id": "ed31571d",
   "metadata": {},
   "outputs": [],
   "source": [
    "# Add error bars and caps to a bar chart using Object Oriented method\n",
    "fig, ax = plt.subplots()\n",
    "ax.bar(x_axis, y_axis, yerr=stdev, capsize=3)\n",
    "plt.show()"
   ]
  },
  {
   "cell_type": "code",
   "execution_count": null,
   "id": "7fe97c82",
   "metadata": {},
   "outputs": [],
   "source": [
    "# Change the major ticks using the xticks() function, from $10 to $5 increments\n",
    "# Import numpy to create array of numbers\n",
    "import numpy as np\n",
    "# Create horizontal bar graph\n",
    "plt.barh(x_axis, y_axis)\n",
    "# Create $5 increments in a range from $0 to $51\n",
    "plt.xticks(np.arange(0, 51, step=5.0))\n",
    "# invert the axes\n",
    "plt.gca().invert_yaxis()"
   ]
  },
  {
   "cell_type": "code",
   "execution_count": null,
   "id": "17a6a8bf",
   "metadata": {},
   "outputs": [],
   "source": [
    "# Using the Object Oriented Approach\n",
    "fig, ax = plt.subplots()\n",
    "ax.barh(x_axis, y_axis)\n",
    "# Can also use: ax.xaxis.set_ticks(np.arange(0, 51, step=5.0))\n",
    "ax.set_xticks(np.arange(0, 51, step=5.0))\n",
    "plt.show()"
   ]
  },
  {
   "cell_type": "code",
   "execution_count": null,
   "id": "3e27d924",
   "metadata": {},
   "outputs": [],
   "source": [
    "# Add minor ticks\n",
    "# Import MultipleLocator method from matplotlib.tickr function\n",
    "from matplotlib.ticker import MultipleLocator\n",
    "# Increase the size of the chart.\n",
    "fig, ax = plt.subplots(figsize=(8, 8))\n",
    "ax.barh(x_axis, y_axis)\n",
    "ax.set_xticks(np.arange(0, 51, step=5.0))\n",
    "\n",
    "# Create minor ticks at an increment of 1.\n",
    "# x.xaxis.set_minor_locator()\n",
    "ax.xaxis.set_minor_locator(MultipleLocator(1))\n",
    "plt.show()"
   ]
  }
 ],
 "metadata": {
  "kernelspec": {
   "display_name": "PythonData",
   "language": "python",
   "name": "pythondata"
  },
  "language_info": {
   "codemirror_mode": {
    "name": "ipython",
    "version": 3
   },
   "file_extension": ".py",
   "mimetype": "text/x-python",
   "name": "python",
   "nbconvert_exporter": "python",
   "pygments_lexer": "ipython3",
   "version": "3.7.11"
  }
 },
 "nbformat": 4,
 "nbformat_minor": 5
}
